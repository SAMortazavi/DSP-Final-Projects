{
 "cells": [
  {
   "attachments": {},
   "cell_type": "markdown",
   "metadata": {},
   "source": [
    "# Importing libraries which are needed"
   ]
  },
  {
   "cell_type": "code",
   "execution_count": 2,
   "metadata": {},
   "outputs": [],
   "source": [
    "import numpy as np\n",
    "from sklearn import svm\n",
    "import scipy.io.wavfile as wav\n",
    "import os\n",
    "import pandas as pd"
   ]
  },
  {
   "attachments": {},
   "cell_type": "markdown",
   "metadata": {},
   "source": [
    "#### This part is not necessary I added it just for ignoring warnings"
   ]
  },
  {
   "cell_type": "code",
   "execution_count": 3,
   "metadata": {},
   "outputs": [],
   "source": [
    "import warnings\n",
    "warnings.filterwarnings(\"ignore\")"
   ]
  },
  {
   "attachments": {},
   "cell_type": "markdown",
   "metadata": {},
   "source": [
    "# Renaming items\n",
    "#### this was run one time to change the names never run it again\n"
   ]
  },
  {
   "cell_type": "code",
   "execution_count": 22,
   "metadata": {},
   "outputs": [],
   "source": [
    "def main():\n",
    "\ti = 0\n",
    "\tpath='E:/validation-physionet/'\n",
    "\tfor filename in os.listdir(path):\n",
    "\t\tmy_dest =\"audio\" + str(i) + \".wav\"\n",
    "\t\tmy_source =path + filename\n",
    "\t\tmy_dest =path + my_dest\n",
    "\t\t# rename() function will\n",
    "\t\t# rename all the files\n",
    "\t\tos.rename(my_source, my_dest)\n",
    "\t\ti += 1\n",
    "# Driver Code\n",
    "if __name__ == '__main__':\n",
    "\t# Calling main() function\n",
    "\tmain()"
   ]
  },
  {
   "attachments": {},
   "cell_type": "markdown",
   "metadata": {},
   "source": [
    "# Import Data"
   ]
  },
  {
   "cell_type": "code",
   "execution_count": 4,
   "metadata": {},
   "outputs": [],
   "source": [
    "X_Data=np.zeros([301,244000])\n",
    "path='E:/validation-physionet'\n",
    "shape_m=[]\n",
    "for i in range(300):\n",
    "    \n",
    "    (rate,song)=wav.read(f'{path}/audio{i}.wav')\n",
    "    shape=song.shape\n",
    "    shape_m.append(shape[0])\n",
    "    song=song.reshape(1,shape[0])\n",
    "    X_Data[i,:shape[0]]=song[0,:]\n"
   ]
  },
  {
   "attachments": {},
   "cell_type": "markdown",
   "metadata": {},
   "source": [
    "# Import Labels"
   ]
  },
  {
   "cell_type": "code",
   "execution_count": 6,
   "metadata": {},
   "outputs": [],
   "source": [
    "data = pd.read_csv(f\"{path}/REFERENCE.csv\")\n",
    "Y_Data=np.zeros([300,1])\n",
    "Y_Data=np.array(data['Y'].tolist())\n",
    "Y_Data=Y_Data.reshape(301,1)"
   ]
  },
  {
   "attachments": {},
   "cell_type": "markdown",
   "metadata": {},
   "source": [
    "# Choosing test and train Data"
   ]
  },
  {
   "cell_type": "code",
   "execution_count": 7,
   "metadata": {},
   "outputs": [],
   "source": [
    "X_train=X_Data[:210,:]\n",
    "Y_train=Y_Data[:210,:]\n",
    "X_test=X_Data[210:,:]\n",
    "Y_test=Y_Data[210:,:]"
   ]
  },
  {
   "attachments": {},
   "cell_type": "markdown",
   "metadata": {},
   "source": [
    "# Using SVC With sigmoid kernel"
   ]
  },
  {
   "cell_type": "code",
   "execution_count": 22,
   "metadata": {},
   "outputs": [
    {
     "data": {
      "text/plain": [
       "0.7582417582417582"
      ]
     },
     "execution_count": 22,
     "metadata": {},
     "output_type": "execute_result"
    }
   ],
   "source": [
    "clf=svm.SVC(kernel='sigmoid')\n",
    "clf.fit(X_train,Y_train)\n",
    "Y_predict=clf.predict(X_test)\n",
    "clf.score(X_test,Y_test)\n"
   ]
  },
  {
   "attachments": {},
   "cell_type": "markdown",
   "metadata": {},
   "source": [
    "# Using SVC With rbf kernel"
   ]
  },
  {
   "cell_type": "code",
   "execution_count": 23,
   "metadata": {},
   "outputs": [
    {
     "data": {
      "text/plain": [
       "0.46153846153846156"
      ]
     },
     "execution_count": 23,
     "metadata": {},
     "output_type": "execute_result"
    }
   ],
   "source": [
    "clf_rbf=svm.SVC(kernel='rbf')\n",
    "clf_rbf.fit(X_train,Y_train)\n",
    "Y_predict_rbf=clf.predict(X_test)\n",
    "clf_rbf.score(X_test,Y_test)"
   ]
  },
  {
   "attachments": {},
   "cell_type": "markdown",
   "metadata": {},
   "source": [
    "# Using SVC With Linear kernel"
   ]
  },
  {
   "cell_type": "code",
   "execution_count": 24,
   "metadata": {},
   "outputs": [
    {
     "data": {
      "text/plain": [
       "0.6373626373626373"
      ]
     },
     "execution_count": 24,
     "metadata": {},
     "output_type": "execute_result"
    }
   ],
   "source": [
    "clf_lin=svm.SVC(kernel='linear')\n",
    "clf_lin.fit(X_train,Y_train)\n",
    "Y_predict_lin=clf_lin.predict(X_test)\n",
    "clf_lin.score(X_test,Y_test)"
   ]
  },
  {
   "attachments": {},
   "cell_type": "markdown",
   "metadata": {},
   "source": [
    "#  Using SVC With Poly kernel"
   ]
  },
  {
   "cell_type": "code",
   "execution_count": 25,
   "metadata": {},
   "outputs": [
    {
     "data": {
      "text/plain": [
       "0.4175824175824176"
      ]
     },
     "execution_count": 25,
     "metadata": {},
     "output_type": "execute_result"
    }
   ],
   "source": [
    "clf_poly=svm.SVC(kernel='poly')\n",
    "clf_poly.fit(X_train,Y_train)\n",
    "Y_predict_poly=clf_poly.predict(X_test)\n",
    "clf_poly.score(X_test,Y_test)"
   ]
  }
 ],
 "metadata": {
  "kernelspec": {
   "display_name": "Python 3",
   "language": "python",
   "name": "python3"
  },
  "language_info": {
   "codemirror_mode": {
    "name": "ipython",
    "version": 3
   },
   "file_extension": ".py",
   "mimetype": "text/x-python",
   "name": "python",
   "nbconvert_exporter": "python",
   "pygments_lexer": "ipython3",
   "version": "3.11.2"
  },
  "orig_nbformat": 4
 },
 "nbformat": 4,
 "nbformat_minor": 2
}
